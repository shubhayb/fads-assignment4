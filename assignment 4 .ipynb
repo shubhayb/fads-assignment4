{
 "cells": [
  {
   "cell_type": "code",
   "execution_count": 1,
   "id": "0e74e114-f0d6-4d6f-b117-882ff4bf49c2",
   "metadata": {},
   "outputs": [],
   "source": [
    "# 1. What exactly is []?\n",
    "# Answer : [] is a list: A mutable collection of values"
   ]
  },
  {
   "cell_type": "code",
   "execution_count": 4,
   "id": "9e0777ff-6dc5-40c9-bf7f-31cc7f241dba",
   "metadata": {},
   "outputs": [
    {
     "data": {
      "text/plain": [
       "[2, 4, 'hello', 8, 10]"
      ]
     },
     "execution_count": 4,
     "metadata": {},
     "output_type": "execute_result"
    }
   ],
   "source": [
    "# 2. In a list of values stored in a variable called spam, how would you assign the value hello' as the third value? (Assume [2, 4, 6, 8, 10] are in spam.)\n",
    "# Answer : solution by changing the value in index 3\n",
    "spam = [2, 4, 6, 8, 10]\n",
    "spam[2] = 'hello'\n",
    "spam"
   ]
  },
  {
   "cell_type": "code",
   "execution_count": 7,
   "id": "6247a3a4-7b28-4deb-a4d5-5140f0809d72",
   "metadata": {},
   "outputs": [],
   "source": [
    "# Lets pretend the spam includes the list ['a', 'b','c','d'] for the next three queries.\n"
   ]
  },
  {
   "cell_type": "code",
   "execution_count": 8,
   "id": "5d7ab79c-d198-4f0c-ad98-d63e9a205f8d",
   "metadata": {},
   "outputs": [
    {
     "data": {
      "text/plain": [
       "'d'"
      ]
     },
     "execution_count": 8,
     "metadata": {},
     "output_type": "execute_result"
    }
   ],
   "source": [
    "# 3. What is the value of spam[int(int(&#39;3&#39; * 2) / 11)]?\n",
    "# Answer : \n",
    "spam = ['a', 'b','c','d']\n",
    "spam[int(int('3' * 2) / 11)] # spam[int(33/11)] = spam[3]"
   ]
  },
  {
   "cell_type": "code",
   "execution_count": 9,
   "id": "81950020-c682-484c-be71-34bdd8fd5d9d",
   "metadata": {},
   "outputs": [
    {
     "data": {
      "text/plain": [
       "'d'"
      ]
     },
     "execution_count": 9,
     "metadata": {},
     "output_type": "execute_result"
    }
   ],
   "source": [
    "# 4.What is the value of spam[-1]?\n",
    "spam = ['a', 'b','c','d']\n",
    "spam[-1] # negative index # d"
   ]
  },
  {
   "cell_type": "code",
   "execution_count": 10,
   "id": "4ba430e2-df82-4937-8587-2c9c8f25ae8c",
   "metadata": {},
   "outputs": [
    {
     "data": {
      "text/plain": [
       "['a', 'b']"
      ]
     },
     "execution_count": 10,
     "metadata": {},
     "output_type": "execute_result"
    }
   ],
   "source": [
    "# 5. What is the value of spam[:2]?\n",
    "spam[:2] # c"
   ]
  },
  {
   "cell_type": "code",
   "execution_count": 11,
   "id": "18a6e9a2-cc76-401c-8900-6bd5ab6bbad5",
   "metadata": {},
   "outputs": [],
   "source": [
    "# *Let's pretend bacon has the list [3.14, 'cat' 11, 'cat' True] for the next three questions.*\n"
   ]
  },
  {
   "cell_type": "code",
   "execution_count": 2,
   "id": "18f5a03a-1d31-40ef-92f3-1eaf2c0cf327",
   "metadata": {},
   "outputs": [
    {
     "data": {
      "text/plain": [
       "1"
      ]
     },
     "execution_count": 2,
     "metadata": {},
     "output_type": "execute_result"
    }
   ],
   "source": [
    "# 6.What is the value of bacon.index('cat')?\n",
    "# Answer :\n",
    "bacon = [3.14, 'cat', 11, 'cat', True]\n",
    "bacon.index('cat') # it returns the index of first occurrence of 'cat'"
   ]
  },
  {
   "cell_type": "code",
   "execution_count": 15,
   "id": "47a44d7c-8693-4fda-b94a-220f8f3c8eff",
   "metadata": {},
   "outputs": [],
   "source": [
    "# 7. How does bacon.append(99) change the look of the list value in bacon?\n",
    "# Answer :\n",
    "bacon = [3.14, 'cat', 11, 'cat', True]\n",
    "bacon.append(99) #append adds the item at the end of the list \n"
   ]
  },
  {
   "cell_type": "code",
   "execution_count": 16,
   "id": "c9f47410-bef9-453c-b0c7-95d8fb08e72f",
   "metadata": {},
   "outputs": [
    {
     "data": {
      "text/plain": [
       "[3.14, 'cat', 11, 'cat', True, 99]"
      ]
     },
     "execution_count": 16,
     "metadata": {},
     "output_type": "execute_result"
    }
   ],
   "source": [
    "bacon\n"
   ]
  },
  {
   "cell_type": "code",
   "execution_count": 18,
   "id": "48030d4f-8daa-4bbd-a336-f9d1932094f5",
   "metadata": {},
   "outputs": [
    {
     "data": {
      "text/plain": [
       "[3.14, 11, 'cat', True]"
      ]
     },
     "execution_count": 18,
     "metadata": {},
     "output_type": "execute_result"
    }
   ],
   "source": [
    "# 8. How does bacon.remove(&#39;cat&#39;) change the look of the list in bacon?\n",
    "# Answer : \n",
    "bacon = [3.14, 'cat', 11, 'cat', True]\n",
    "bacon.remove('cat') # remove first occurrence of item\n",
    "bacon\n",
    "\n"
   ]
  },
  {
   "cell_type": "code",
   "execution_count": 19,
   "id": "6cb49d2f-8c4e-4b9f-82cd-b11b44fa683c",
   "metadata": {},
   "outputs": [
    {
     "data": {
      "text/plain": [
       "[1, 4, 2, 5]"
      ]
     },
     "execution_count": 19,
     "metadata": {},
     "output_type": "execute_result"
    }
   ],
   "source": [
    "# 9. What are the list concatenation and list replication operators?\n",
    "# answer : ( * ) is list replication operator ( + ) is list concatination operator\n",
    "l1 = [1,4]\n",
    "l2 = [2,5]\n",
    "# list concatination\n",
    "l1+l2\n",
    "\n"
   ]
  },
  {
   "cell_type": "code",
   "execution_count": 20,
   "id": "0b7be41c-8dca-47d8-9a2b-8e656cde2e24",
   "metadata": {},
   "outputs": [
    {
     "data": {
      "text/plain": [
       "[7, 4, 7, 4, 7, 4]"
      ]
     },
     "execution_count": 20,
     "metadata": {},
     "output_type": "execute_result"
    }
   ],
   "source": [
    "l1 = [7,4]\n",
    "\n",
    "# list replication\n",
    "l1*3"
   ]
  },
  {
   "cell_type": "code",
   "execution_count": 25,
   "id": "4ed9f412-66a4-4f55-8882-b59f016215e3",
   "metadata": {},
   "outputs": [
    {
     "name": "stdout",
     "output_type": "stream",
     "text": [
      "[3.14, 'cat', 11, 'cat', True, 99]\n",
      "[2, 4, 'hello', 6, 8, 10]\n"
     ]
    }
   ],
   "source": [
    "# 10. What is difference between the list methods append() and insert()?\n",
    "# Answer : append() Appends object to the end of the list.     insert() Insert object before index\n",
    "bacon = [3.14, 'cat', 11, 'cat', True]\n",
    "bacon.append(99) # append adds the item at the end of the list\n",
    "print(bacon)\n",
    "\n",
    "spam = [2, 4, 6, 8, 10]\n",
    "spam.insert(2,'hello')\n",
    "print(spam)\n"
   ]
  },
  {
   "cell_type": "code",
   "execution_count": 27,
   "id": "35da3662-d909-413b-a8a4-0b88a52ef9d2",
   "metadata": {},
   "outputs": [
    {
     "name": "stdout",
     "output_type": "stream",
     "text": [
      "[3.14, 11, 'cat', True]\n",
      "[3.14, 'cat', 11, 'cat']\n"
     ]
    }
   ],
   "source": [
    "# 11. What are the two methods for removing items from a list?\n",
    "# Answer : remove(item) - removeds first occurence of a item\n",
    "bacon = [3.14, 'cat', 11, 'cat', True]\n",
    "bacon.remove('cat')\n",
    "print(bacon)\n",
    "#pop() - Remove and returns item at index (default last).\n",
    "bacon1 = [3.14, 'cat', 11, 'cat', True]\n",
    "bacon1.pop()\n",
    "print(bacon1)\n",
    "     "
   ]
  },
  {
   "cell_type": "markdown",
   "id": "a547473b-4e5c-4d9a-8d76-d2da323822bb",
   "metadata": {},
   "source": [
    "# 12. Describe how list values and string values are identical.\n",
    " Answer : Both lists and strings can be passed to len()\n",
    "         # Have indexes and slices\n",
    "         # Can be used in for loops\n",
    "         # Can be concatenated or replicated\n",
    "         # Can be used with the in and not in operators"
   ]
  },
  {
   "cell_type": "code",
   "execution_count": 29,
   "id": "a98f1545-4be1-4b8a-b3f3-7862457706ef",
   "metadata": {},
   "outputs": [],
   "source": [
    "# 13.What&#39;s the difference between tuples and lists?\n",
    "# Answer : Lists : are mutable - they can have values added, removed, or changed. lists use the square brackets, [ and ]\n",
    "         # Tuples : are immutable; they cannot be changed at all. Tuples are written using parentheses, ( and )"
   ]
  },
  {
   "cell_type": "code",
   "execution_count": 30,
   "id": "f10a8376-8d69-46e9-bd9b-8b2f6c43b5d8",
   "metadata": {},
   "outputs": [
    {
     "data": {
      "text/plain": [
       "(42,)"
      ]
     },
     "execution_count": 30,
     "metadata": {},
     "output_type": "execute_result"
    }
   ],
   "source": [
    "# 14. How do you type a tuple value that only contains the integer 42?\n",
    "tuple = (42,)\n",
    "tuple"
   ]
  },
  {
   "cell_type": "markdown",
   "id": "f9b7112c-3258-4ec6-89cf-491000e5f636",
   "metadata": {},
   "source": [
    "15. How do you get a list value's tuple form? How do you get a tuple value's list form?\n",
    " Ans : An iterable can be passed as an input to the tuple () function, which will convert it to a tuple object. If you want to convert a Python list to a tuple, you can use the tuple() function to pass the full list as an argument, and it will return the tuple data type as an output"
   ]
  },
  {
   "cell_type": "markdown",
   "id": "6360d50a-4fa1-4f30-9043-a10b57d547b0",
   "metadata": {},
   "source": [
    "16. Variables that \"contain\" list values are not necessarily lists themselves. Instead, what do they\n",
    "contain?\n",
    "Ans : AThey contain references to list values"
   ]
  }
 ],
 "metadata": {
  "kernelspec": {
   "display_name": "Python 3 (ipykernel)",
   "language": "python",
   "name": "python3"
  },
  "language_info": {
   "codemirror_mode": {
    "name": "ipython",
    "version": 3
   },
   "file_extension": ".py",
   "mimetype": "text/x-python",
   "name": "python",
   "nbconvert_exporter": "python",
   "pygments_lexer": "ipython3",
   "version": "3.10.6"
  }
 },
 "nbformat": 4,
 "nbformat_minor": 5
}
